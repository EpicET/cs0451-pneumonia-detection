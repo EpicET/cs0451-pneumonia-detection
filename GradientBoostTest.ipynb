{
 "cells": [
  {
   "cell_type": "code",
   "execution_count": 33,
   "id": "5cdf4724",
   "metadata": {},
   "outputs": [
    {
     "name": "stdout",
     "output_type": "stream",
     "text": [
      "The autoreload extension is already loaded. To reload it, use:\n",
      "  %reload_ext autoreload\n"
     ]
    }
   ],
   "source": [
    "%load_ext autoreload\n",
    "%autoreload 2"
   ]
  },
  {
   "cell_type": "code",
   "execution_count": null,
   "id": "1263def4",
   "metadata": {},
   "outputs": [],
   "source": [
    "import pandas as pd\n",
    "import torch\n",
    "from sklearn.metrics import accuracy_score, confusion_matrix"
   ]
  },
  {
   "cell_type": "code",
   "execution_count": 72,
   "id": "955e2629",
   "metadata": {},
   "outputs": [],
   "source": [
    "X_train_df, y_train_df = pd.read_csv(\"./csv_data/UTF-878X_train.csv\"),  pd.read_csv(\"./csv_data/UTF-878y_train.csv\")\n",
    "X_test_df, y_test_df = pd.read_csv(\"./csv_data/UTF-878X_test.csv\"),  pd.read_csv(\"./csv_data/UTF-878y_test.csv\")\n",
    "X_train_tensor, y_train_tensor = torch.tensor(X_train_df.values), torch.tensor(y_train_df.values)\n",
    "X_test_tensor, y_test_tensor = torch.tensor(X_test_df.values), torch.tensor(y_test_df.values)"
   ]
  },
  {
   "cell_type": "code",
   "execution_count": 73,
   "id": "613a5da0",
   "metadata": {},
   "outputs": [],
   "source": [
    "from GradientBoosting import GradientBoostClassifier\n",
    "model = GradientBoostClassifier(50, 0.1, 8)\n",
    "model.fit(X_train_tensor, y_train_tensor)"
   ]
  },
  {
   "cell_type": "code",
   "execution_count": null,
   "id": "a971f1f4",
   "metadata": {},
   "outputs": [
    {
     "name": "stdout",
     "output_type": "stream",
     "text": [
      "Accuracy: 0.7463884430176565\n"
     ]
    }
   ],
   "source": [
    "y_pred = model.predict(X_test_tensor)\n",
    "# Compute accuracy, precision, and recall\n",
    "print(\"Accuracy:\", accuracy_score(y_test_tensor, y_pred))"
   ]
  },
  {
   "cell_type": "code",
   "execution_count": null,
   "id": "7f214749",
   "metadata": {},
   "outputs": [],
   "source": [
    "#Add a confusion matrixs\n",
    "#Get a nice summary table\n",
    "confusion_matrix(y_test_tensor, y_pred)\n"
   ]
  }
 ],
 "metadata": {
  "kernelspec": {
   "display_name": "ml-0451",
   "language": "python",
   "name": "python3"
  },
  "language_info": {
   "codemirror_mode": {
    "name": "ipython",
    "version": 3
   },
   "file_extension": ".py",
   "mimetype": "text/x-python",
   "name": "python",
   "nbconvert_exporter": "python",
   "pygments_lexer": "ipython3",
   "version": "3.12.8"
  }
 },
 "nbformat": 4,
 "nbformat_minor": 5
}
