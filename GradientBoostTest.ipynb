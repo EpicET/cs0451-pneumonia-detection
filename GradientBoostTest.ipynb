{
 "cells": [
  {
   "cell_type": "code",
   "execution_count": 33,
   "id": "5cdf4724",
   "metadata": {},
   "outputs": [
    {
     "name": "stdout",
     "output_type": "stream",
     "text": [
      "The autoreload extension is already loaded. To reload it, use:\n",
      "  %reload_ext autoreload\n"
     ]
    }
   ],
   "source": [
    "%load_ext autoreload\n",
    "%autoreload 2"
   ]
  },
  {
   "cell_type": "code",
   "execution_count": 104,
   "id": "1263def4",
   "metadata": {},
   "outputs": [],
   "source": [
    "import pandas as pd\n",
    "import torch\n",
    "from sklearn.metrics import accuracy_score, confusion_matrix, precision_recall_fscore_support"
   ]
  },
  {
   "cell_type": "code",
   "execution_count": 78,
   "id": "955e2629",
   "metadata": {},
   "outputs": [],
   "source": [
    "X_train_df, y_train_df = pd.read_csv(\"./csv_data/UTF-878X_train.csv\"),  pd.read_csv(\"./csv_data/UTF-878y_train.csv\")\n",
    "X_test_df, y_test_df = pd.read_csv(\"./csv_data/UTF-878X_test.csv\"),  pd.read_csv(\"./csv_data/UTF-878y_test.csv\")\n",
    "X_train_tensor, y_train_tensor = torch.tensor(X_train_df.values), torch.tensor(y_train_df.values)\n",
    "X_test_tensor, y_test_tensor = torch.tensor(X_test_df.values), torch.tensor(y_test_df.values)"
   ]
  },
  {
   "cell_type": "code",
   "execution_count": 80,
   "id": "613a5da0",
   "metadata": {},
   "outputs": [],
   "source": [
    "from GradientBoosting import GradientBoostClassifier\n",
    "model = GradientBoostClassifier(50, 0.1, 8)\n",
    "model.fit(X_train_tensor, y_train_tensor)"
   ]
  },
  {
   "cell_type": "code",
   "execution_count": null,
   "id": "a971f1f4",
   "metadata": {},
   "outputs": [
    {
     "name": "stdout",
     "output_type": "stream",
     "text": [
      "Accuracy = 0.7479935794542536\n",
      "Class 0: Precision = 0.8585, Recall = 0.3906, F1-score = 0.5369\n",
      "Class 1: Precision = 0.7253, Recall = 0.9615, F1-score = 0.8269\n"
     ]
    }
   ],
   "source": [
    "y_pred = model.predict(X_test_tensor)\n",
    "# Compute accuracy, precision, and recall\n",
    "accuracy = accuracy_score(y_test_tensor, y_pred)"
   ]
  },
  {
   "cell_type": "code",
   "execution_count": 88,
   "id": "7f214749",
   "metadata": {},
   "outputs": [
    {
     "name": "stdout",
     "output_type": "stream",
     "text": [
      "[[ 91 142]\n",
      " [ 15 375]]\n",
      "Accuracy = 0.7479935794542536, Precision = 0.7253384912959381, Recall = 0.9615384615384616, f1-score = 0.8269018743109151\n"
     ]
    }
   ],
   "source": [
    "#Add a confusion matrixs\n",
    "cm = confusion_matrix(y_test_tensor, y_pred)\n",
    "print(cm)\n",
    "precision = cm[1][1] / (cm[1][1] + cm[0][1])\n",
    "recall = cm[1][1] / (cm[1][1] + cm[1][0])\n",
    "f1_score = 2 * ((precision*recall)/(precision+recall))\n",
    "print(f\"Accuracy = {accuracy_score(y_test_tensor, y_pred)}, Precision = {precision}, Recall = {recall}, f1-score = {f1_score}\",)"
   ]
  },
  {
   "cell_type": "code",
   "execution_count": null,
   "id": "b10f5f1c",
   "metadata": {},
   "outputs": [
    {
     "name": "stdout",
     "output_type": "stream",
     "text": [
      "Accuracy = 0.7479935794542536\n",
      "Class 0: Precision = 0.8585, Recall = 0.3906, F1-score = 0.5369\n",
      "Class 1: Precision = 0.7253, Recall = 0.9615, F1-score = 0.8269\n"
     ]
    }
   ],
   "source": [
    "accuracy = accuracy_score(y_test_tensor, y_pred)\n",
    "precision, recall, f1_score, _ = precision_recall_fscore_support(y_test_tensor, y_pred, average=None)\n",
    "\n",
    "print(f\"Accuracy = {accuracy}\")\n",
    "for i, (p, r, f1) in enumerate(zip(precision, recall, f1_score)):\n",
    "    print(f\"Class {i}: Precision = {p:.4f}, Recall = {r:.4f}, F1-score = {f1:.4f}\")"
   ]
  },
  {
   "cell_type": "code",
   "execution_count": 121,
   "id": "5395528b",
   "metadata": {},
   "outputs": [
    {
     "name": "stdout",
     "output_type": "stream",
     "text": [
      "0.7479935794542536\n",
      "[0.85849057 0.72533849]\n",
      "╒═════════════════════════╤════════════════════════════════════╕\n",
      "│  Classification Metric  │  Gradient Boost Algorithm Results  │\n",
      "╞═════════════════════════╪════════════════════════════════════╡\n",
      "│        Accuracy         │                0.75                │\n",
      "├─────────────────────────┼────────────────────────────────────┤\n",
      "│        Precision        │    Class 0: 0.86 Class 1: 0.73     │\n",
      "├─────────────────────────┼────────────────────────────────────┤\n",
      "│         Recall          │    Class 0: 0.39 Class 1: 0.96     │\n",
      "├─────────────────────────┼────────────────────────────────────┤\n",
      "│        f1-score         │    Class 0: 0.54 Class 1: 0.83     │\n",
      "╘═════════════════════════╧════════════════════════════════════╛\n"
     ]
    }
   ],
   "source": [
    "from tabulate import tabulate\n",
    "print(accuracy)\n",
    "print(precision)\n",
    "table = [[\"Accuracy\", f\"{accuracy:.2f}\"],[\"Precision\", f\"Class 0: {precision[0]:.2f} Class 1: {precision[1]:.2f}\"],[\"Recall\", f\"Class 0: {recall[0]:.2f} Class 1: {recall[1]:.2f}\"],[\"f1-score\", f\"Class 0: {f1_score[0]:.2f} Class 1: {f1_score[1]:.2f}\"]]\n",
    "print(tabulate(table, headers=[\"Classification Metric\", \"Gradient Boost Algorithm Results\"], tablefmt=\"fancy_grid\",  floatfmt=\"g\", stralign=\"center\"))\n"
   ]
  },
  {
   "cell_type": "code",
   "execution_count": 123,
   "id": "0c9882bf",
   "metadata": {},
   "outputs": [
    {
     "data": {
      "image/png": "[encoded data removed]",
      "text/plain": [
       "<Figure size 640x480 with 2 Axes>"
      ]
     },
     "metadata": {},
     "output_type": "display_data"
    }
   ],
   "source": [
    "import matplotlib.pyplot as plt\n",
    "import seaborn as sns\n",
    "\n",
    "sns.heatmap(cm, annot=True, fmt=\"d\")\n",
    "plt.title(\"Gradient Boost Confusion Matrix\")\n",
    "plt.xlabel(\"Y Predicted\")\n",
    "plt.ylabel(\"Y True\")\n",
    "plt.show()"
   ]
  },
  {
   "cell_type": "code",
   "execution_count": null,
   "id": "90770bd3",
   "metadata": {},
   "outputs": [
    {
     "ename": "NameError",
     "evalue": "name 'f' is not defined",
     "output_type": "error",
     "traceback": [
      "\u001b[0;31m---------------------------------------------------------------------------\u001b[0m",
      "\u001b[0;31mNameError\u001b[0m                                 Traceback (most recent call last)",
      "Cell \u001b[0;32mIn[106], line 2\u001b[0m\n\u001b[1;32m      1\u001b[0m \u001b[38;5;28;01mfrom\u001b[39;00m\u001b[38;5;250m \u001b[39m\u001b[38;5;21;01mtabulate\u001b[39;00m\u001b[38;5;250m \u001b[39m\u001b[38;5;28;01mimport\u001b[39;00m tabulate\n\u001b[0;32m----> 2\u001b[0m table \u001b[38;5;241m=\u001b[39m [[\u001b[38;5;124m\"\u001b[39m\u001b[38;5;124mAccuracy\u001b[39m\u001b[38;5;124m\"\u001b[39m, \u001b[43mf\u001b[49m],[\u001b[38;5;124m\"\u001b[39m\u001b[38;5;124mPrecision\u001b[39m\u001b[38;5;124m\"\u001b[39m, precision],[\u001b[38;5;124m\"\u001b[39m\u001b[38;5;124mRecall\u001b[39m\u001b[38;5;124m\"\u001b[39m, recall],[\u001b[38;5;124m\"\u001b[39m\u001b[38;5;124mf1-score\u001b[39m\u001b[38;5;124m\"\u001b[39m, f1_score]]\n\u001b[1;32m      3\u001b[0m \u001b[38;5;28mprint\u001b[39m(tabulate(table, headers\u001b[38;5;241m=\u001b[39m[\u001b[38;5;124m\"\u001b[39m\u001b[38;5;124mClassification Metric\u001b[39m\u001b[38;5;124m\"\u001b[39m, \u001b[38;5;124m\"\u001b[39m\u001b[38;5;124mGradient Boost Algorithm Results\u001b[39m\u001b[38;5;124m\"\u001b[39m], tablefmt\u001b[38;5;241m=\u001b[39m\u001b[38;5;124m\"\u001b[39m\u001b[38;5;124mfancy_grid\u001b[39m\u001b[38;5;124m\"\u001b[39m))\n",
      "\u001b[0;31mNameError\u001b[0m: name 'f' is not defined"
     ]
    }
   ],
   "source": []
  },
  {
   "cell_type": "code",
   "execution_count": null,
   "id": "38f58551",
   "metadata": {},
   "outputs": [],
   "source": []
  }
 ],
 "metadata": {
  "kernelspec": {
   "display_name": "ml-0451",
   "language": "python",
   "name": "python3"
  },
  "language_info": {
   "codemirror_mode": {
    "name": "ipython",
    "version": 3
   },
   "file_extension": ".py",
   "mimetype": "text/x-python",
   "name": "python",
   "nbconvert_exporter": "python",
   "pygments_lexer": "ipython3",
   "version": "3.12.8"
  }
 },
 "nbformat": 4,
 "nbformat_minor": 5
}
