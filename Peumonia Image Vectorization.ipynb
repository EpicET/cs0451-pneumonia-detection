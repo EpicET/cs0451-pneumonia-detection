{
 "cells": [
  {
   "cell_type": "code",
   "execution_count": null,
   "id": "0",
   "metadata": {},
   "outputs": [],
   "source": [
    "import kagglehub\n",
    "\n",
    "# Download chest x-ray (will take a minute or two)\n",
    "data_path = kagglehub.dataset_download(\"paultimothymooney/chest-xray-pneumonia\")\n"
   ]
  },
  {
   "cell_type": "code",
   "execution_count": null,
   "id": "1",
   "metadata": {},
   "outputs": [],
   "source": [
    "import pandas as pd\n",
    "\n",
    "train_path = data_path + \"/chest_xray/train\"\n",
    "test_path = data_path + \"/chest_xray/test\"\n",
    "val_path = data_path + \"/chest_xray/test\"\n"
   ]
  },
  {
   "cell_type": "code",
   "execution_count": null,
   "id": "2",
   "metadata": {},
   "outputs": [],
   "source": [
    "from torchvision import datasets, transforms\n",
    "from torch.utils.data import DataLoader\n",
    "\n",
    "\n",
    "transform = transforms.Compose([\n",
    "    transforms.Resize((224, 224)),\n",
    "    transforms.ToTensor(),\n",
    "])\n",
    "\n",
    "#Loading train, test, and validation datasets. \n",
    "train_dataset = datasets.ImageFolder(train_path, transform=transform)\n",
    "test_dataset = datasets.ImageFolder(test_path, transform=transform)\n",
    "val_dataset = datasets.ImageFolder(val_path, transform = transform)\n",
    "\n",
    "#dataloaders w 32 images each for batches (randomized)\n",
    "train_loader = DataLoader(train_dataset, batch_size=32, shuffle=True)\n",
    "test_loader = DataLoader(test_dataset, batch_size=32, shuffle=False)\n",
    "\n",
    "print(train_dataset.classes) # classes for the data (train)\n",
    "\n"
   ]
  },
  {
   "cell_type": "code",
   "execution_count": null,
   "id": "3",
   "metadata": {},
   "outputs": [],
   "source": [
    "import matplotlib.pyplot as plt\n",
    "import numpy as np\n",
    "\n",
    "#image batch\n",
    "dataiter = iter(train_loader)\n",
    "images, labels = next(dataiter) #image, label pair\n",
    "\n",
    "\n",
    "img_ten = images[0] #getting the 0th image/label pair\n",
    "label = labels[0]\n",
    "\n",
    "#tensor to NumPy (tensors no work for plotting :P)\n",
    "img_np = img_ten.numpy()\n",
    "img_np = np.transpose(img_np, (1, 2, 0))  #NOTE that the height/width need to be reordered when converting\n",
    "\n",
    "#Image plot with the label on the top (thanks Chodrow!!!)\n",
    "plt.imshow(img_np)\n",
    "plt.title(f\"Label: {train_dataset.classes[label]}\")\n",
    "plt.axis(\"off\")\n",
    "plt.show()\n",
    "\n",
    "i=10\n",
    "pnu_img_ten = images[i]\n",
    "pnu_label = labels[i]\n",
    "\n",
    "pnu_img_np = pnu_img_ten.numpy()\n",
    "pnu_img_np = np.transpose(pnu_img_np, (1, 2, 0))\n",
    "\n",
    "plt.imshow(pnu_img_np)\n",
    "plt.title(f\"Label: {train_dataset.classes[pnu_label]}\")\n",
    "plt.axis('off')\n",
    "plt.show()\n"
   ]
  }
 ],
 "metadata": {
  "kernelspec": {
   "display_name": "ml-0451",
   "language": "python",
   "name": "python3"
  },
  "language_info": {
   "codemirror_mode": {
    "name": "ipython",
    "version": 3
   },
   "file_extension": ".py",
   "mimetype": "text/x-python",
   "name": "python",
   "nbconvert_exporter": "python",
   "pygments_lexer": "ipython3",
   "version": "3.9.19"
  }
 },
 "nbformat": 4,
 "nbformat_minor": 5
}
