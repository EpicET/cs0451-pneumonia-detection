{
 "cells": [
  {
   "cell_type": "code",
   "execution_count": 2,
   "id": "e48caf92",
   "metadata": {},
   "outputs": [],
   "source": [
    "import torch \n",
    "import matplotlib.pyplot as plt\n",
    "\n",
    "import pandas as pd\n"
   ]
  },
  {
   "cell_type": "code",
   "execution_count": 3,
   "id": "fac70631",
   "metadata": {},
   "outputs": [],
   "source": [
    "%load_ext autoreload\n",
    "%autoreload 2\n",
    "from svm import SVM"
   ]
  },
  {
   "cell_type": "code",
   "execution_count": 4,
   "id": "b8c228ae",
   "metadata": {},
   "outputs": [],
   "source": [
    "df = pd.read_csv('data/X_train.csv', header=None)\n",
    "\n",
    "X = torch.tensor(df.values, dtype=torch.float32)"
   ]
  },
  {
   "cell_type": "code",
   "execution_count": 5,
   "id": "994e8a17",
   "metadata": {},
   "outputs": [],
   "source": [
    "dfX_test = pd.read_csv('data/X_test.csv', header=None)\n",
    "X_test = torch.tensor(dfX_test.values, dtype=torch.float32)\n"
   ]
  },
  {
   "cell_type": "code",
   "execution_count": 9,
   "id": "f80ef122",
   "metadata": {},
   "outputs": [],
   "source": [
    "dfy_train = pd.read_csv('data/y_train.csv', header=None)\n",
    "y = torch.tensor(dfy_train.values, dtype=torch.float32)\n",
    "dfy_test = pd.read_csv('data/y_test.csv', header=None)\n",
    "y_test = torch.tensor(dfy_test.values)\n"
   ]
  },
  {
   "cell_type": "code",
   "execution_count": 22,
   "id": "08edca7d",
   "metadata": {},
   "outputs": [],
   "source": [
    "# best n_iters = 1000, lam = 0.0001, batch_size=32\n",
    "# best n_iters = 8, lam = 0.001, batch_size=32, 83% on test set 91% on train set\n",
    "model  = SVM(n_iters=8, lam= 0.001, batch_size=32)\n",
    "model.fit(X, y)"
   ]
  },
  {
   "cell_type": "code",
   "execution_count": 12,
   "id": "24688794",
   "metadata": {},
   "outputs": [],
   "source": [
    "from sklearn.metrics import confusion_matrix"
   ]
  },
  {
   "cell_type": "code",
   "execution_count": 23,
   "id": "37d61190",
   "metadata": {},
   "outputs": [
    {
     "data": {
      "text/plain": [
       "0.9313650306748467"
      ]
     },
     "execution_count": 23,
     "metadata": {},
     "output_type": "execute_result"
    }
   ],
   "source": [
    "y_train_pred = model.predict(X)\n",
    "accuracy(confusion_matrix(y, y_train_pred))\n"
   ]
  },
  {
   "cell_type": "code",
   "execution_count": 24,
   "id": "61b582bd",
   "metadata": {},
   "outputs": [
    {
     "data": {
      "text/plain": [
       "array([[100, 134],\n",
       "       [ 11, 379]], dtype=int64)"
      ]
     },
     "execution_count": 24,
     "metadata": {},
     "output_type": "execute_result"
    }
   ],
   "source": [
    "y_pred = model.predict(X_test)\n",
    "\n",
    "cm = confusion_matrix(y_test, y_pred)\n",
    "cm\n",
    "\n"
   ]
  },
  {
   "cell_type": "code",
   "execution_count": 25,
   "id": "805a88e1",
   "metadata": {},
   "outputs": [
    {
     "data": {
      "text/plain": [
       "0.7676282051282052"
      ]
     },
     "execution_count": 25,
     "metadata": {},
     "output_type": "execute_result"
    }
   ],
   "source": [
    "def accuracy(cm): \n",
    "    return (cm[0,0] + cm[1,1]) / cm.sum()\n",
    "accuracy(cm)"
   ]
  },
  {
   "cell_type": "code",
   "execution_count": 26,
   "id": "69874708",
   "metadata": {},
   "outputs": [
    {
     "data": {
      "image/png": "[encoded data removed]",
      "text/plain": [
       "<Figure size 800x600 with 2 Axes>"
      ]
     },
     "metadata": {},
     "output_type": "display_data"
    }
   ],
   "source": [
    "import seaborn as sns\n",
    "# cm = confusion_matrix(true_labels, predicted_labels)\n",
    "\n",
    "# Plot confusion matrix\n",
    "plt.figure(figsize=(8, 6))\n",
    "sns.heatmap(cm, annot=True, fmt='d', cmap='Blues', xticklabels=['Predicted 0', 'Predicted 1'], yticklabels=['Actual 0', 'Actual 1'])\n",
    "plt.xlabel('Predicted')\n",
    "plt.ylabel('Actual')\n",
    "plt.title('Confusion Matrix')\n",
    "plt.show()"
   ]
  },
  {
   "cell_type": "code",
   "execution_count": 27,
   "id": "1aa472bc",
   "metadata": {},
   "outputs": [
    {
     "data": {
      "text/plain": [
       "0.7676282051282052"
      ]
     },
     "execution_count": 27,
     "metadata": {},
     "output_type": "execute_result"
    }
   ],
   "source": [
    "from sklearn.metrics import accuracy_score\n",
    "acc = accuracy_score(y_test, y_pred)\n",
    "acc"
   ]
  },
  {
   "cell_type": "code",
   "execution_count": 28,
   "id": "ec8e12f6",
   "metadata": {},
   "outputs": [
    {
     "name": "stdout",
     "output_type": "stream",
     "text": [
      "              precision    recall  f1-score   support\n",
      "\n",
      "     Class 0       0.90      0.43      0.58       234\n",
      "     Class 1       0.74      0.97      0.84       390\n",
      "\n",
      "    accuracy                           0.77       624\n",
      "   macro avg       0.82      0.70      0.71       624\n",
      "weighted avg       0.80      0.77      0.74       624\n",
      "\n"
     ]
    }
   ],
   "source": [
    "from sklearn.metrics import classification_report\n",
    "report = classification_report(y_test, y_pred, target_names=['Class 0', 'Class 1'])\n",
    "print(report)"
   ]
  }
 ],
 "metadata": {
  "kernelspec": {
   "display_name": "ml-451",
   "language": "python",
   "name": "python3"
  },
  "language_info": {
   "codemirror_mode": {
    "name": "ipython",
    "version": 3
   },
   "file_extension": ".py",
   "mimetype": "text/x-python",
   "name": "python",
   "nbconvert_exporter": "python",
   "pygments_lexer": "ipython3",
   "version": "3.9.21"
  }
 },
 "nbformat": 4,
 "nbformat_minor": 5
}
