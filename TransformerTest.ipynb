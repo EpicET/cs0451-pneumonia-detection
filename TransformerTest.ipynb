{
 "cells": [
  {
   "cell_type": "code",
   "execution_count": null,
   "id": "09dde81a",
   "metadata": {},
   "outputs": [],
   "source": [
    "%load_ext autoreload\n",
    "%autoreload 2\n",
    "\n",
    "import kagglehub\n",
    "\n",
    "# Download chest x-ray (will take a minute or two)\n",
    "data_path = kagglehub.dataset_download(\"paultimothymooney/chest-xray-pneumonia\")"
   ]
  },
  {
   "cell_type": "code",
   "execution_count": null,
   "id": "ce483aad",
   "metadata": {},
   "outputs": [],
   "source": [
    "train_path = data_path + \"/chest_xray/train\"\n",
    "test_path = data_path + \"/chest_xray/test\"\n",
    "val_path = data_path + \"/chest_xray/test\""
   ]
  },
  {
   "cell_type": "code",
   "execution_count": null,
   "id": "a139cd5f",
   "metadata": {},
   "outputs": [],
   "source": [
    "from torchvision import datasets, transforms\n",
    "from torch.utils.data import DataLoader\n",
    "\n",
    "\n",
    "transform = transforms.Compose([\n",
    "    transforms.Grayscale(), #compression 3 rgb matrix into one for runtime\n",
    "    transforms.Resize((224, 224)), # can downsample here for runtime\n",
    "    transforms.ToTensor(),\n",
    "])\n",
    "\n",
    "#Loading train, test, and validation datasets.\n",
    "train_dataset = datasets.ImageFolder(train_path, transform=transform)\n",
    "test_dataset = datasets.ImageFolder(test_path, transform=transform)\n",
    "val_dataset = datasets.ImageFolder(val_path, transform = transform)\n",
    "\n",
    "#dataloaders w 32 images each for batches (randomized)\n",
    "train_loader = DataLoader(train_dataset, batch_size=32, shuffle=True)\n",
    "test_loader = DataLoader(test_dataset, batch_size=32, shuffle=False)\n",
    "\n",
    "print(train_dataset.classes) # classes for the data (train)"
   ]
  },
  {
   "cell_type": "code",
   "execution_count": null,
   "id": "b28ba11f",
   "metadata": {},
   "outputs": [],
   "source": [
    "import torch\n",
    "import numpy as np\n",
    "from sklearn.decomposition import PCA\n",
    "from ContrastiveVAE import ContrastiveVAE\n",
    "\n",
    "def supervised_contrastive_loss(embeddings, labels: torch.Tensor, temperature=0.1):\n",
    "    #contrastive loss function for VAE\n",
    "\n",
    "        device = embeddings.device\n",
    "        labels = labels.contiguous().view(-1, 1)\n",
    "        mask = torch.eq(labels, labels.T).float().to(device)\n",
    "\n",
    "        dot_product = (embeddings @ embeddings.T) / temperature\n",
    "        logits_max, _ = torch.max(dot_product, dim=1, keepdim=True)\n",
    "        logits = dot_product - logits_max.detach()\n",
    "\n",
    "        exp_logits = torch.exp(logits) * (1 - torch.eye(len(labels), device=device))\n",
    "        log_prob = logits - torch.log(exp_logits.sum(1, keepdim=True) + 1e-8)\n",
    "\n",
    "        mean_log_prob_pos = (mask * log_prob).sum(1) / mask.sum(1)\n",
    "        loss = -mean_log_prob_pos.mean()\n",
    "        return loss"
   ]
  },
  {
   "cell_type": "code",
   "execution_count": null,
   "id": "70ae0989",
   "metadata": {},
   "outputs": [],
   "source": [
    "def train_vae(model: ContrastiveVAE, dataloader, optimizer, device, epochs=10, beta=1.0, contrastive_weight=1.0):\n",
    "    model.train()\n",
    "    recon_loss_fn = nn.MSELoss(reduction='sum')\n",
    "\n",
    "    for epoch in range(epochs):\n",
    "        total_loss = 0\n",
    "        for x, y in tqdm(dataloader, desc=f\"Epoch {epoch+1}/{epochs}\"):\n",
    "            x, y = x.to(device), y.to(device)\n",
    "            optimizer.zero_grad()\n",
    "\n",
    "            x_recon, mu, logvar = model(x)\n",
    "            recon_loss = recon_loss_fn(x_recon, x) / x.size(0)\n",
    "\n",
    "            kl_loss = -0.5 * torch.mean(1 + logvar - mu.pow(2) - logvar.exp())\n",
    "\n",
    "            contrastive = supervised_contrastive_loss(mu, y)\n",
    "\n",
    "            loss = recon_loss + beta * kl_loss + contrastive_weight * contrastive\n",
    "            loss.backward()\n",
    "            optimizer.step()\n",
    "\n",
    "            total_loss += loss.item()\n",
    "\n",
    "        print(f\"Epoch {epoch+1} - Loss: {total_loss / len(dataloader):.4f}\")\n"
   ]
  },
  {
   "cell_type": "code",
   "execution_count": null,
   "id": "05c5a01a",
   "metadata": {},
   "outputs": [],
   "source": [
    "device = torch.device(\"cuda\" if torch.cuda.is_available() else \"cpu\")\n",
    "model = ContrastiveVAE(latent_dim=64).to(device)\n",
    "optimizer = torch.optim.Adam(model.parameters(), lr=1e-3)\n",
    "\n",
    "train_vae(\n",
    "    model,\n",
    "    train_loader,\n",
    "    optimizer,\n",
    "    device,\n",
    "    epochs=10,\n",
    "    beta=1.0,\n",
    "    contrastive_weight=5 # 5 ~208, 10 ~ 229\n",
    ")\n"
   ]
  },
  {
   "cell_type": "code",
   "execution_count": null,
   "id": "99471b0d",
   "metadata": {},
   "outputs": [],
   "source": [
    "\n",
    "\n",
    "def extract_latent_vectors(model, dataloader, device):\n",
    "    model.eval()\n",
    "    all_mu = []\n",
    "    all_labels = []\n",
    "\n",
    "    with torch.no_grad():\n",
    "        for x, y in dataloader:\n",
    "            x = x.to(device)\n",
    "            mu, _ = model.encode(x)\n",
    "            all_mu.append(mu.cpu().numpy()) #add all into np array\n",
    "            all_labels.append(y.numpy())\n",
    "\n",
    "    X = np.concatenate(all_mu, axis=0)\n",
    "    y = np.concatenate(all_labels, axis=0)\n",
    "    return X, y\n"
   ]
  },
  {
   "cell_type": "code",
   "execution_count": null,
   "id": "59d2ef7e",
   "metadata": {},
   "outputs": [],
   "source": [
    "X_train, y_train = extract_latent_vectors(model, train_loader, device)\n",
    "X_test, y_test = extract_latent_vectors(model, test_loader, device)\n",
    "# X_train.shape is (5216, 64)"
   ]
  },
  {
   "cell_type": "code",
   "execution_count": null,
   "id": "60bdf4c3",
   "metadata": {},
   "outputs": [],
   "source": [
    "from Transformer import Transformer\n",
    "from sklearn.metrics import classification_report, accuracy_score\n",
    "\n",
    "model_test = Transformer(max_iter=100, verbose = 1)\n",
    "model_test.fit(X_train, y_train)\n",
    "\n",
    "y_pred = model_test.predict(X_test)\n",
    "print(\"Accuracy:\", accuracy_score(y_test, y_pred))\n",
    "print(classification_report(y_test, y_pred, digits=4))\n"
   ]
  }
 ],
 "metadata": {
  "kernelspec": {
   "display_name": "ml-0451",
   "language": "python",
   "name": "python3"
  },
  "language_info": {
   "name": "python",
   "version": "3.9.19"
  }
 },
 "nbformat": 4,
 "nbformat_minor": 5
}
